{
 "cells": [
  {
   "cell_type": "code",
   "execution_count": 1,
   "id": "6a48d286",
   "metadata": {},
   "outputs": [],
   "source": [
    "import pandas as pd\n",
    "import glob\n",
    "import matplotlib.pyplot as plt\n",
    "import numpy as np\n",
    "%matplotlib inline"
   ]
  },
  {
   "cell_type": "code",
   "execution_count": 2,
   "id": "db5e7278",
   "metadata": {},
   "outputs": [],
   "source": [
    "files=glob.glob('C:/Users/91750/Desktop/VLG/negative/*')"
   ]
  },
  {
   "cell_type": "code",
   "execution_count": 3,
   "id": "e4c707fd",
   "metadata": {},
   "outputs": [],
   "source": [
    "l=[pd.read_csv(filename,sep='\\t',names=[\"text\"],) for filename in files]\n",
    "df=pd.concat(l,axis=0)"
   ]
  },
  {
   "cell_type": "code",
   "execution_count": 4,
   "id": "0fd60e54",
   "metadata": {},
   "outputs": [],
   "source": [
    "df['labels']=0"
   ]
  },
  {
   "cell_type": "code",
   "execution_count": 5,
   "id": "ba05df1a",
   "metadata": {},
   "outputs": [
    {
     "data": {
      "text/html": [
       "<div>\n",
       "<style scoped>\n",
       "    .dataframe tbody tr th:only-of-type {\n",
       "        vertical-align: middle;\n",
       "    }\n",
       "\n",
       "    .dataframe tbody tr th {\n",
       "        vertical-align: top;\n",
       "    }\n",
       "\n",
       "    .dataframe thead th {\n",
       "        text-align: right;\n",
       "    }\n",
       "</style>\n",
       "<table border=\"1\" class=\"dataframe\">\n",
       "  <thead>\n",
       "    <tr style=\"text-align: right;\">\n",
       "      <th></th>\n",
       "      <th>text</th>\n",
       "      <th>labels</th>\n",
       "    </tr>\n",
       "  </thead>\n",
       "  <tbody>\n",
       "    <tr>\n",
       "      <th>0</th>\n",
       "      <td>possibly the worst book i have ever read while...</td>\n",
       "      <td>0</td>\n",
       "    </tr>\n",
       "    <tr>\n",
       "      <th>0</th>\n",
       "      <td>boring with a total lack of clarity i had neve...</td>\n",
       "      <td>0</td>\n",
       "    </tr>\n",
       "    <tr>\n",
       "      <th>0</th>\n",
       "      <td>not good science while i appreciate what tiple...</td>\n",
       "      <td>0</td>\n",
       "    </tr>\n",
       "    <tr>\n",
       "      <th>0</th>\n",
       "      <td>calvino could have written better stuff this b...</td>\n",
       "      <td>0</td>\n",
       "    </tr>\n",
       "    <tr>\n",
       "      <th>0</th>\n",
       "      <td>excellent book marred by slander as many revie...</td>\n",
       "      <td>0</td>\n",
       "    </tr>\n",
       "  </tbody>\n",
       "</table>\n",
       "</div>"
      ],
      "text/plain": [
       "                                                text  labels\n",
       "0  possibly the worst book i have ever read while...       0\n",
       "0  boring with a total lack of clarity i had neve...       0\n",
       "0  not good science while i appreciate what tiple...       0\n",
       "0  calvino could have written better stuff this b...       0\n",
       "0  excellent book marred by slander as many revie...       0"
      ]
     },
     "execution_count": 5,
     "metadata": {},
     "output_type": "execute_result"
    }
   ],
   "source": [
    "df.head()"
   ]
  },
  {
   "cell_type": "code",
   "execution_count": 6,
   "id": "51fa82ff",
   "metadata": {},
   "outputs": [],
   "source": [
    "files_=glob.glob('C:/Users/91750/Desktop/VLG/positive/*')"
   ]
  },
  {
   "cell_type": "code",
   "execution_count": 7,
   "id": "ff343037",
   "metadata": {},
   "outputs": [],
   "source": [
    "m=[pd.read_csv(filename,sep='\\t',names=[\"text\"],) for filename in files_]\n",
    "df2=pd.concat(m,axis=0)"
   ]
  },
  {
   "cell_type": "code",
   "execution_count": 8,
   "id": "34c6f598",
   "metadata": {},
   "outputs": [],
   "source": [
    "df2['label']=1"
   ]
  },
  {
   "cell_type": "code",
   "execution_count": 9,
   "id": "abb961cc",
   "metadata": {},
   "outputs": [
    {
     "data": {
      "text/html": [
       "<div>\n",
       "<style scoped>\n",
       "    .dataframe tbody tr th:only-of-type {\n",
       "        vertical-align: middle;\n",
       "    }\n",
       "\n",
       "    .dataframe tbody tr th {\n",
       "        vertical-align: top;\n",
       "    }\n",
       "\n",
       "    .dataframe thead th {\n",
       "        text-align: right;\n",
       "    }\n",
       "</style>\n",
       "<table border=\"1\" class=\"dataframe\">\n",
       "  <thead>\n",
       "    <tr style=\"text-align: right;\">\n",
       "      <th></th>\n",
       "      <th>text</th>\n",
       "      <th>label</th>\n",
       "    </tr>\n",
       "  </thead>\n",
       "  <tbody>\n",
       "    <tr>\n",
       "      <th>0</th>\n",
       "      <td>greatest spy thriller this is the true account...</td>\n",
       "      <td>1</td>\n",
       "    </tr>\n",
       "    <tr>\n",
       "      <th>0</th>\n",
       "      <td>rick steves books are the best i love the way ...</td>\n",
       "      <td>1</td>\n",
       "    </tr>\n",
       "    <tr>\n",
       "      <th>0</th>\n",
       "      <td>fascinating as a geography and history buff , ...</td>\n",
       "      <td>1</td>\n",
       "    </tr>\n",
       "    <tr>\n",
       "      <th>0</th>\n",
       "      <td>plymoth we were very pleased with our books . ...</td>\n",
       "      <td>1</td>\n",
       "    </tr>\n",
       "    <tr>\n",
       "      <th>0</th>\n",
       "      <td>is it reality or a blend of reality and fantas...</td>\n",
       "      <td>1</td>\n",
       "    </tr>\n",
       "  </tbody>\n",
       "</table>\n",
       "</div>"
      ],
      "text/plain": [
       "                                                text  label\n",
       "0  greatest spy thriller this is the true account...      1\n",
       "0  rick steves books are the best i love the way ...      1\n",
       "0  fascinating as a geography and history buff , ...      1\n",
       "0  plymoth we were very pleased with our books . ...      1\n",
       "0  is it reality or a blend of reality and fantas...      1"
      ]
     },
     "execution_count": 9,
     "metadata": {},
     "output_type": "execute_result"
    }
   ],
   "source": [
    "df2.head()"
   ]
  },
  {
   "cell_type": "code",
   "execution_count": 10,
   "id": "a89f2c94",
   "metadata": {},
   "outputs": [],
   "source": [
    "train=pd.concat([df,df2],axis=0)"
   ]
  },
  {
   "cell_type": "code",
   "execution_count": 11,
   "id": "8cb5910b",
   "metadata": {},
   "outputs": [
    {
     "data": {
      "text/html": [
       "<div>\n",
       "<style scoped>\n",
       "    .dataframe tbody tr th:only-of-type {\n",
       "        vertical-align: middle;\n",
       "    }\n",
       "\n",
       "    .dataframe tbody tr th {\n",
       "        vertical-align: top;\n",
       "    }\n",
       "\n",
       "    .dataframe thead th {\n",
       "        text-align: right;\n",
       "    }\n",
       "</style>\n",
       "<table border=\"1\" class=\"dataframe\">\n",
       "  <thead>\n",
       "    <tr style=\"text-align: right;\">\n",
       "      <th></th>\n",
       "      <th>text</th>\n",
       "      <th>labels</th>\n",
       "      <th>label</th>\n",
       "    </tr>\n",
       "  </thead>\n",
       "  <tbody>\n",
       "    <tr>\n",
       "      <th>0</th>\n",
       "      <td>possibly the worst book i have ever read while...</td>\n",
       "      <td>0.0</td>\n",
       "      <td>NaN</td>\n",
       "    </tr>\n",
       "    <tr>\n",
       "      <th>0</th>\n",
       "      <td>boring with a total lack of clarity i had neve...</td>\n",
       "      <td>0.0</td>\n",
       "      <td>NaN</td>\n",
       "    </tr>\n",
       "    <tr>\n",
       "      <th>0</th>\n",
       "      <td>not good science while i appreciate what tiple...</td>\n",
       "      <td>0.0</td>\n",
       "      <td>NaN</td>\n",
       "    </tr>\n",
       "    <tr>\n",
       "      <th>0</th>\n",
       "      <td>calvino could have written better stuff this b...</td>\n",
       "      <td>0.0</td>\n",
       "      <td>NaN</td>\n",
       "    </tr>\n",
       "    <tr>\n",
       "      <th>0</th>\n",
       "      <td>excellent book marred by slander as many revie...</td>\n",
       "      <td>0.0</td>\n",
       "      <td>NaN</td>\n",
       "    </tr>\n",
       "  </tbody>\n",
       "</table>\n",
       "</div>"
      ],
      "text/plain": [
       "                                                text  labels  label\n",
       "0  possibly the worst book i have ever read while...     0.0    NaN\n",
       "0  boring with a total lack of clarity i had neve...     0.0    NaN\n",
       "0  not good science while i appreciate what tiple...     0.0    NaN\n",
       "0  calvino could have written better stuff this b...     0.0    NaN\n",
       "0  excellent book marred by slander as many revie...     0.0    NaN"
      ]
     },
     "execution_count": 11,
     "metadata": {},
     "output_type": "execute_result"
    }
   ],
   "source": [
    "train.head()"
   ]
  },
  {
   "cell_type": "code",
   "execution_count": 12,
   "id": "248fe370",
   "metadata": {},
   "outputs": [],
   "source": [
    "train.drop('labels',axis=1,inplace=True)"
   ]
  },
  {
   "cell_type": "code",
   "execution_count": 13,
   "id": "14fb8ef9",
   "metadata": {},
   "outputs": [],
   "source": [
    "train.fillna(0,axis=1,inplace=True)"
   ]
  },
  {
   "cell_type": "code",
   "execution_count": 14,
   "id": "040ae293",
   "metadata": {},
   "outputs": [
    {
     "data": {
      "text/html": [
       "<div>\n",
       "<style scoped>\n",
       "    .dataframe tbody tr th:only-of-type {\n",
       "        vertical-align: middle;\n",
       "    }\n",
       "\n",
       "    .dataframe tbody tr th {\n",
       "        vertical-align: top;\n",
       "    }\n",
       "\n",
       "    .dataframe thead th {\n",
       "        text-align: right;\n",
       "    }\n",
       "</style>\n",
       "<table border=\"1\" class=\"dataframe\">\n",
       "  <thead>\n",
       "    <tr style=\"text-align: right;\">\n",
       "      <th></th>\n",
       "      <th>text</th>\n",
       "      <th>label</th>\n",
       "    </tr>\n",
       "  </thead>\n",
       "  <tbody>\n",
       "    <tr>\n",
       "      <th>0</th>\n",
       "      <td>possibly the worst book i have ever read while...</td>\n",
       "      <td>0.0</td>\n",
       "    </tr>\n",
       "    <tr>\n",
       "      <th>0</th>\n",
       "      <td>boring with a total lack of clarity i had neve...</td>\n",
       "      <td>0.0</td>\n",
       "    </tr>\n",
       "    <tr>\n",
       "      <th>0</th>\n",
       "      <td>not good science while i appreciate what tiple...</td>\n",
       "      <td>0.0</td>\n",
       "    </tr>\n",
       "    <tr>\n",
       "      <th>0</th>\n",
       "      <td>calvino could have written better stuff this b...</td>\n",
       "      <td>0.0</td>\n",
       "    </tr>\n",
       "    <tr>\n",
       "      <th>0</th>\n",
       "      <td>excellent book marred by slander as many revie...</td>\n",
       "      <td>0.0</td>\n",
       "    </tr>\n",
       "  </tbody>\n",
       "</table>\n",
       "</div>"
      ],
      "text/plain": [
       "                                                text  label\n",
       "0  possibly the worst book i have ever read while...    0.0\n",
       "0  boring with a total lack of clarity i had neve...    0.0\n",
       "0  not good science while i appreciate what tiple...    0.0\n",
       "0  calvino could have written better stuff this b...    0.0\n",
       "0  excellent book marred by slander as many revie...    0.0"
      ]
     },
     "execution_count": 14,
     "metadata": {},
     "output_type": "execute_result"
    }
   ],
   "source": [
    "train.head()"
   ]
  },
  {
   "cell_type": "code",
   "execution_count": 15,
   "id": "2ca98ccf",
   "metadata": {},
   "outputs": [],
   "source": [
    "train['length'] = train['text'].apply(len)"
   ]
  },
  {
   "cell_type": "code",
   "execution_count": 16,
   "id": "af8d4345",
   "metadata": {},
   "outputs": [
    {
     "data": {
      "text/plain": [
       "963.3975"
      ]
     },
     "execution_count": 16,
     "metadata": {},
     "output_type": "execute_result"
    }
   ],
   "source": [
    "#average length of document in training dataset\n",
    "train['length'].mean()"
   ]
  },
  {
   "cell_type": "code",
   "execution_count": 17,
   "id": "8b915efa",
   "metadata": {},
   "outputs": [
    {
     "data": {
      "text/plain": [
       "20775"
      ]
     },
     "execution_count": 17,
     "metadata": {},
     "output_type": "execute_result"
    }
   ],
   "source": [
    "#max length of document in training dataset\n",
    "train['length'].max()"
   ]
  },
  {
   "cell_type": "code",
   "execution_count": 18,
   "id": "dad2e20b",
   "metadata": {},
   "outputs": [],
   "source": [
    "#function to remove punctuations\n",
    "import re\n",
    "def clean_data(text):\n",
    "    text = re.sub('[^a-zA-Z]', ' ',text)\n",
    "    text = text.lower()\n",
    "    return text"
   ]
  },
  {
   "cell_type": "code",
   "execution_count": 19,
   "id": "e40eecfd",
   "metadata": {},
   "outputs": [],
   "source": [
    "train['text'] = train['text'].apply(clean_data)"
   ]
  },
  {
   "cell_type": "code",
   "execution_count": 20,
   "id": "ec0e4139",
   "metadata": {},
   "outputs": [],
   "source": [
    "train['unique']=train.text.apply(lambda x: len(set(x.split())))"
   ]
  },
  {
   "cell_type": "code",
   "execution_count": 21,
   "id": "5e3b9a4a",
   "metadata": {},
   "outputs": [
    {
     "data": {
      "text/plain": [
       "199400"
      ]
     },
     "execution_count": 21,
     "metadata": {},
     "output_type": "execute_result"
    }
   ],
   "source": [
    "#unique words\n",
    "train['unique'].sum()"
   ]
  },
  {
   "cell_type": "code",
   "execution_count": 22,
   "id": "9f62ca6e",
   "metadata": {},
   "outputs": [
    {
     "data": {
      "text/plain": [
       "2000"
      ]
     },
     "execution_count": 22,
     "metadata": {},
     "output_type": "execute_result"
    }
   ],
   "source": [
    "#total number of training examples\n",
    "len(train)"
   ]
  },
  {
   "cell_type": "code",
   "execution_count": 23,
   "id": "70c65912",
   "metadata": {},
   "outputs": [
    {
     "data": {
      "text/plain": [
       "1.0"
      ]
     },
     "execution_count": 23,
     "metadata": {},
     "output_type": "execute_result"
    }
   ],
   "source": [
    "#ratio of positive examples to negative examples\n",
    "ratio=len(train[train['label']==1])/len(train[train['label']==0])\n",
    "ratio"
   ]
  },
  {
   "cell_type": "code",
   "execution_count": 24,
   "id": "078d9b09",
   "metadata": {},
   "outputs": [],
   "source": [
    "import nltk\n",
    "from nltk.corpus import stopwords"
   ]
  },
  {
   "cell_type": "code",
   "execution_count": 25,
   "id": "cabffa52",
   "metadata": {},
   "outputs": [],
   "source": [
    "def remove_stop_words(text):\n",
    "    li = []\n",
    "    stop_words = stopwords.words('english')\n",
    "    text = text.split()\n",
    "    text = [li.append(word) for word in text if word not in stop_words]\n",
    "    text = ' '.join(li)\n",
    "    return text"
   ]
  },
  {
   "cell_type": "code",
   "execution_count": 26,
   "id": "32d35b44",
   "metadata": {},
   "outputs": [],
   "source": [
    "train['text'] = train['text'].apply(remove_stop_words)"
   ]
  },
  {
   "cell_type": "code",
   "execution_count": 27,
   "id": "05a2a7c9",
   "metadata": {},
   "outputs": [
    {
     "name": "stderr",
     "output_type": "stream",
     "text": [
      "[nltk_data] Downloading package wordnet to\n",
      "[nltk_data]     C:\\Users\\91750\\AppData\\Roaming\\nltk_data...\n",
      "[nltk_data]   Package wordnet is already up-to-date!\n"
     ]
    }
   ],
   "source": [
    "nltk.download('wordnet')\n",
    "from nltk.stem import WordNetLemmatizer\n",
    "lemmatizer=WordNetLemmatizer()\n",
    "\n",
    "def lematize(text):\n",
    "    text = text.split()\n",
    "    text = [lemmatizer.lemmatize(w) for w in text]\n",
    "    text = ' '.join(text)\n",
    "    return text"
   ]
  },
  {
   "cell_type": "code",
   "execution_count": 28,
   "id": "29e6b68b",
   "metadata": {},
   "outputs": [],
   "source": [
    "train['text'] = train['text'].apply(lematize)"
   ]
  },
  {
   "cell_type": "code",
   "execution_count": 29,
   "id": "0b5ea2ae",
   "metadata": {},
   "outputs": [
    {
     "data": {
      "text/html": [
       "<div>\n",
       "<style scoped>\n",
       "    .dataframe tbody tr th:only-of-type {\n",
       "        vertical-align: middle;\n",
       "    }\n",
       "\n",
       "    .dataframe tbody tr th {\n",
       "        vertical-align: top;\n",
       "    }\n",
       "\n",
       "    .dataframe thead th {\n",
       "        text-align: right;\n",
       "    }\n",
       "</style>\n",
       "<table border=\"1\" class=\"dataframe\">\n",
       "  <thead>\n",
       "    <tr style=\"text-align: right;\">\n",
       "      <th></th>\n",
       "      <th>text</th>\n",
       "      <th>label</th>\n",
       "      <th>length</th>\n",
       "      <th>unique</th>\n",
       "    </tr>\n",
       "  </thead>\n",
       "  <tbody>\n",
       "    <tr>\n",
       "      <th>0</th>\n",
       "      <td>possibly worst book ever read realize majority...</td>\n",
       "      <td>0.0</td>\n",
       "      <td>676</td>\n",
       "      <td>80</td>\n",
       "    </tr>\n",
       "    <tr>\n",
       "      <th>0</th>\n",
       "      <td>boring total lack clarity never read vernor vi...</td>\n",
       "      <td>0.0</td>\n",
       "      <td>814</td>\n",
       "      <td>93</td>\n",
       "    </tr>\n",
       "    <tr>\n",
       "      <th>0</th>\n",
       "      <td>good science appreciate tipler attempting acco...</td>\n",
       "      <td>0.0</td>\n",
       "      <td>169</td>\n",
       "      <td>25</td>\n",
       "    </tr>\n",
       "    <tr>\n",
       "      <th>0</th>\n",
       "      <td>calvino could written better stuff book say no...</td>\n",
       "      <td>0.0</td>\n",
       "      <td>147</td>\n",
       "      <td>25</td>\n",
       "    </tr>\n",
       "    <tr>\n",
       "      <th>0</th>\n",
       "      <td>excellent book marred slander many reviewer co...</td>\n",
       "      <td>0.0</td>\n",
       "      <td>1078</td>\n",
       "      <td>117</td>\n",
       "    </tr>\n",
       "  </tbody>\n",
       "</table>\n",
       "</div>"
      ],
      "text/plain": [
       "                                                text  label  length  unique\n",
       "0  possibly worst book ever read realize majority...    0.0     676      80\n",
       "0  boring total lack clarity never read vernor vi...    0.0     814      93\n",
       "0  good science appreciate tipler attempting acco...    0.0     169      25\n",
       "0  calvino could written better stuff book say no...    0.0     147      25\n",
       "0  excellent book marred slander many reviewer co...    0.0    1078     117"
      ]
     },
     "execution_count": 29,
     "metadata": {},
     "output_type": "execute_result"
    }
   ],
   "source": [
    "train.head()"
   ]
  },
  {
   "cell_type": "code",
   "execution_count": 30,
   "id": "7344f369",
   "metadata": {},
   "outputs": [],
   "source": [
    "train=train.drop(['length','unique'],axis=1)"
   ]
  },
  {
   "cell_type": "code",
   "execution_count": 31,
   "id": "a0862f05",
   "metadata": {},
   "outputs": [
    {
     "data": {
      "text/html": [
       "<div>\n",
       "<style scoped>\n",
       "    .dataframe tbody tr th:only-of-type {\n",
       "        vertical-align: middle;\n",
       "    }\n",
       "\n",
       "    .dataframe tbody tr th {\n",
       "        vertical-align: top;\n",
       "    }\n",
       "\n",
       "    .dataframe thead th {\n",
       "        text-align: right;\n",
       "    }\n",
       "</style>\n",
       "<table border=\"1\" class=\"dataframe\">\n",
       "  <thead>\n",
       "    <tr style=\"text-align: right;\">\n",
       "      <th></th>\n",
       "      <th>text</th>\n",
       "      <th>label</th>\n",
       "    </tr>\n",
       "  </thead>\n",
       "  <tbody>\n",
       "    <tr>\n",
       "      <th>0</th>\n",
       "      <td>possibly worst book ever read realize majority...</td>\n",
       "      <td>0.0</td>\n",
       "    </tr>\n",
       "    <tr>\n",
       "      <th>0</th>\n",
       "      <td>boring total lack clarity never read vernor vi...</td>\n",
       "      <td>0.0</td>\n",
       "    </tr>\n",
       "    <tr>\n",
       "      <th>0</th>\n",
       "      <td>good science appreciate tipler attempting acco...</td>\n",
       "      <td>0.0</td>\n",
       "    </tr>\n",
       "    <tr>\n",
       "      <th>0</th>\n",
       "      <td>calvino could written better stuff book say no...</td>\n",
       "      <td>0.0</td>\n",
       "    </tr>\n",
       "    <tr>\n",
       "      <th>0</th>\n",
       "      <td>excellent book marred slander many reviewer co...</td>\n",
       "      <td>0.0</td>\n",
       "    </tr>\n",
       "  </tbody>\n",
       "</table>\n",
       "</div>"
      ],
      "text/plain": [
       "                                                text  label\n",
       "0  possibly worst book ever read realize majority...    0.0\n",
       "0  boring total lack clarity never read vernor vi...    0.0\n",
       "0  good science appreciate tipler attempting acco...    0.0\n",
       "0  calvino could written better stuff book say no...    0.0\n",
       "0  excellent book marred slander many reviewer co...    0.0"
      ]
     },
     "execution_count": 31,
     "metadata": {},
     "output_type": "execute_result"
    }
   ],
   "source": [
    "train.head()"
   ]
  },
  {
   "cell_type": "code",
   "execution_count": 32,
   "id": "48e910a4",
   "metadata": {},
   "outputs": [],
   "source": [
    "train_X=train['text']\n",
    "train_Y=train['label']"
   ]
  },
  {
   "cell_type": "code",
   "execution_count": 33,
   "id": "bdd167b2",
   "metadata": {},
   "outputs": [],
   "source": [
    "from sklearn.model_selection import train_test_split\n",
    "X_train, X_test , y_train, y_test = train_test_split(train_X, train_Y , test_size = 0.20, random_state=7)"
   ]
  },
  {
   "cell_type": "code",
   "execution_count": 34,
   "id": "9872e806",
   "metadata": {},
   "outputs": [],
   "source": [
    "from keras.preprocessing.text import Tokenizer\n",
    "from keras.preprocessing.sequence import pad_sequences\n",
    "\n",
    "tokenizer = Tokenizer()\n",
    "\n",
    "tokenizer.fit_on_texts(list(X_train))\n",
    "\n",
    "X_train_seq  = tokenizer.texts_to_sequences(X_train) \n",
    "X_test_seq = tokenizer.texts_to_sequences(X_test)\n",
    "\n",
    "X_train_seq  = pad_sequences(X_train_seq, maxlen=100)\n",
    "X_test_seq = pad_sequences(X_test_seq, maxlen=100)"
   ]
  },
  {
   "cell_type": "code",
   "execution_count": 49,
   "id": "6babf891",
   "metadata": {},
   "outputs": [
    {
     "name": "stdout",
     "output_type": "stream",
     "text": [
      "17304\n"
     ]
    }
   ],
   "source": [
    "size_of_vocabulary=len(tokenizer.word_index) + 1\n",
    "print(size_of_vocabulary)"
   ]
  },
  {
   "cell_type": "markdown",
   "id": "61b0b143",
   "metadata": {},
   "source": [
    "# RNN MODEL without pretrained embedding"
   ]
  },
  {
   "cell_type": "code",
   "execution_count": 50,
   "id": "17926193",
   "metadata": {},
   "outputs": [
    {
     "name": "stdout",
     "output_type": "stream",
     "text": [
      "Model: \"sequential_4\"\n",
      "_________________________________________________________________\n",
      " Layer (type)                Output Shape              Param #   \n",
      "=================================================================\n",
      " embedding_4 (Embedding)     (None, 100, 300)          5191200   \n",
      "                                                                 \n",
      " lstm_4 (LSTM)               (None, 100, 100)          160400    \n",
      "                                                                 \n",
      " global_max_pooling1d_4 (Glo  (None, 100)              0         \n",
      " balMaxPooling1D)                                                \n",
      "                                                                 \n",
      " dense_8 (Dense)             (None, 100)               10100     \n",
      "                                                                 \n",
      " dense_9 (Dense)             (None, 1)                 101       \n",
      "                                                                 \n",
      "=================================================================\n",
      "Total params: 5,361,801\n",
      "Trainable params: 5,361,801\n",
      "Non-trainable params: 0\n",
      "_________________________________________________________________\n",
      "None\n"
     ]
    }
   ],
   "source": [
    "from keras.models import *\n",
    "from keras.layers import *\n",
    "from keras.callbacks import *\n",
    "\n",
    "\n",
    "model=Sequential()\n",
    "\n",
    "model.add(Embedding(size_of_vocabulary,300,input_length=100,trainable=True)) \n",
    "\n",
    "model.add(LSTM(100,return_sequences=True,activation='tanh'))\n",
    "\n",
    "model.add(GlobalMaxPooling1D())\n",
    "\n",
    "model.add(Dense(100))\n",
    "model.add(Dense(1,activation='sigmoid'))\n",
    "\n",
    "model.compile(optimizer='adam', loss='binary_crossentropy',metrics=[\"acc\"]) \n",
    "\n",
    "es = EarlyStopping(monitor='val_loss', mode='min', verbose=1,patience=3)  \n",
    "mc=ModelCheckpoint('best_model.h5', monitor='val_acc', mode='max', save_best_only=True,verbose=1)  \n",
    "\n",
    "print(model.summary())"
   ]
  },
  {
   "cell_type": "code",
   "execution_count": 54,
   "id": "a75dba05",
   "metadata": {},
   "outputs": [],
   "source": [
    "from time import time\n",
    "start=time()"
   ]
  },
  {
   "cell_type": "code",
   "execution_count": 55,
   "id": "01216af8",
   "metadata": {},
   "outputs": [
    {
     "name": "stdout",
     "output_type": "stream",
     "text": [
      "Epoch 1/30\n",
      "50/50 [==============================] - ETA: 0s - loss: 0.0011 - acc: 1.0000\n",
      "Epoch 00001: val_acc improved from 0.74250 to 0.75250, saving model to best_model.h5\n",
      "50/50 [==============================] - 6s 117ms/step - loss: 0.0011 - acc: 1.0000 - val_loss: 1.3189 - val_acc: 0.7525\n",
      "Epoch 2/30\n",
      "50/50 [==============================] - ETA: 0s - loss: 3.6352e-04 - acc: 1.0000\n",
      "Epoch 00002: val_acc did not improve from 0.75250\n",
      "50/50 [==============================] - 6s 115ms/step - loss: 3.6352e-04 - acc: 1.0000 - val_loss: 1.4578 - val_acc: 0.7525\n",
      "Epoch 3/30\n",
      "50/50 [==============================] - ETA: 0s - loss: 2.0848e-04 - acc: 1.0000\n",
      "Epoch 00003: val_acc improved from 0.75250 to 0.75500, saving model to best_model.h5\n",
      "50/50 [==============================] - 6s 116ms/step - loss: 2.0848e-04 - acc: 1.0000 - val_loss: 1.5510 - val_acc: 0.7550\n",
      "Epoch 4/30\n",
      "50/50 [==============================] - ETA: 0s - loss: 1.4707e-04 - acc: 1.0000\n",
      "Epoch 00004: val_acc improved from 0.75500 to 0.75750, saving model to best_model.h5\n",
      "50/50 [==============================] - 6s 120ms/step - loss: 1.4707e-04 - acc: 1.0000 - val_loss: 1.6393 - val_acc: 0.7575\n",
      "Epoch 00004: early stopping\n"
     ]
    }
   ],
   "source": [
    "history = model.fit(np.array(X_train_seq),np.array(y_train),epochs=30,validation_data=(np.array(X_test_seq),np.array(y_test)),verbose=1,callbacks=[es,mc])"
   ]
  },
  {
   "cell_type": "code",
   "execution_count": 56,
   "id": "0aa73ab1",
   "metadata": {},
   "outputs": [
    {
     "name": "stdout",
     "output_type": "stream",
     "text": [
      "25.352086782455444\n"
     ]
    }
   ],
   "source": [
    "#training time till best accuracy\n",
    "\n",
    "print(time()-start)"
   ]
  },
  {
   "cell_type": "code",
   "execution_count": 59,
   "id": "7a96e763",
   "metadata": {},
   "outputs": [
    {
     "name": "stdout",
     "output_type": "stream",
     "text": [
      "13/13 [==============================] - 1s 21ms/step - loss: 1.6393 - acc: 0.7575\n",
      "0.7574999928474426\n"
     ]
    }
   ],
   "source": [
    "from keras.models import load_model\n",
    "model = load_model('best_model.h5')\n",
    "\n",
    "#max accuracy\n",
    "\n",
    "_,val_acc = model.evaluate(X_test_seq,y_test)\n",
    "print(val_acc)"
   ]
  },
  {
   "cell_type": "code",
   "execution_count": 60,
   "id": "04219bcc",
   "metadata": {},
   "outputs": [
    {
     "name": "stdout",
     "output_type": "stream",
     "text": [
      "Epoch 1/30\n",
      "50/50 [==============================] - 8s 132ms/step - loss: 0.6675 - acc: 0.5900 - val_loss: 0.7203 - val_acc: 0.5850\n",
      "Epoch 2/30\n",
      "50/50 [==============================] - 6s 118ms/step - loss: 0.2771 - acc: 0.8950 - val_loss: 0.6335 - val_acc: 0.7475\n",
      "Epoch 3/30\n",
      "50/50 [==============================] - 7s 133ms/step - loss: 0.0400 - acc: 0.9862 - val_loss: 0.6893 - val_acc: 0.7550\n",
      "Epoch 4/30\n",
      "50/50 [==============================] - 6s 114ms/step - loss: 0.0082 - acc: 0.9981 - val_loss: 1.1564 - val_acc: 0.7400\n",
      "Epoch 5/30\n",
      "50/50 [==============================] - 6s 115ms/step - loss: 5.0154e-04 - acc: 1.0000 - val_loss: 1.3458 - val_acc: 0.7350\n",
      "Epoch 6/30\n",
      "50/50 [==============================] - 6s 116ms/step - loss: 2.1392e-04 - acc: 1.0000 - val_loss: 1.4680 - val_acc: 0.7300\n",
      "Epoch 7/30\n",
      "50/50 [==============================] - 6s 122ms/step - loss: 1.4658e-04 - acc: 1.0000 - val_loss: 1.5683 - val_acc: 0.7350\n",
      "Epoch 8/30\n",
      "50/50 [==============================] - 6s 124ms/step - loss: 1.0807e-04 - acc: 1.0000 - val_loss: 1.6548 - val_acc: 0.7350\n",
      "Epoch 9/30\n",
      "50/50 [==============================] - 6s 127ms/step - loss: 8.4418e-05 - acc: 1.0000 - val_loss: 1.7298 - val_acc: 0.7350\n",
      "Epoch 10/30\n",
      "50/50 [==============================] - 7s 134ms/step - loss: 6.7226e-05 - acc: 1.0000 - val_loss: 1.8016 - val_acc: 0.7350\n",
      "Epoch 11/30\n",
      "50/50 [==============================] - 6s 115ms/step - loss: 5.5456e-05 - acc: 1.0000 - val_loss: 1.8728 - val_acc: 0.7425\n",
      "Epoch 12/30\n",
      "50/50 [==============================] - 6s 115ms/step - loss: 4.6336e-05 - acc: 1.0000 - val_loss: 1.9361 - val_acc: 0.7400\n",
      "Epoch 13/30\n",
      "50/50 [==============================] - 6s 115ms/step - loss: 3.9423e-05 - acc: 1.0000 - val_loss: 2.0020 - val_acc: 0.7425\n",
      "Epoch 14/30\n",
      "50/50 [==============================] - 6s 116ms/step - loss: 3.3709e-05 - acc: 1.0000 - val_loss: 2.0576 - val_acc: 0.7425\n",
      "Epoch 15/30\n",
      "50/50 [==============================] - 6s 124ms/step - loss: 2.9383e-05 - acc: 1.0000 - val_loss: 2.1123 - val_acc: 0.7375\n",
      "Epoch 16/30\n",
      "50/50 [==============================] - 6s 115ms/step - loss: 2.5707e-05 - acc: 1.0000 - val_loss: 2.1629 - val_acc: 0.7375\n",
      "Epoch 17/30\n",
      "50/50 [==============================] - 6s 115ms/step - loss: 2.2825e-05 - acc: 1.0000 - val_loss: 2.2134 - val_acc: 0.7375\n",
      "Epoch 18/30\n",
      "50/50 [==============================] - 6s 115ms/step - loss: 2.0293e-05 - acc: 1.0000 - val_loss: 2.2569 - val_acc: 0.7375\n",
      "Epoch 19/30\n",
      "50/50 [==============================] - 6s 115ms/step - loss: 1.8090e-05 - acc: 1.0000 - val_loss: 2.2996 - val_acc: 0.7400\n",
      "Epoch 20/30\n",
      "50/50 [==============================] - 6s 115ms/step - loss: 1.6325e-05 - acc: 1.0000 - val_loss: 2.3405 - val_acc: 0.7375\n",
      "Epoch 21/30\n",
      "50/50 [==============================] - 6s 115ms/step - loss: 1.4786e-05 - acc: 1.0000 - val_loss: 2.3803 - val_acc: 0.7350\n",
      "Epoch 22/30\n",
      "50/50 [==============================] - 6s 115ms/step - loss: 1.3419e-05 - acc: 1.0000 - val_loss: 2.4187 - val_acc: 0.7375\n",
      "Epoch 23/30\n",
      "50/50 [==============================] - 6s 115ms/step - loss: 1.2221e-05 - acc: 1.0000 - val_loss: 2.4551 - val_acc: 0.7375\n",
      "Epoch 24/30\n",
      "50/50 [==============================] - 6s 115ms/step - loss: 1.1197e-05 - acc: 1.0000 - val_loss: 2.4906 - val_acc: 0.7375\n",
      "Epoch 25/30\n",
      "50/50 [==============================] - 6s 116ms/step - loss: 1.0281e-05 - acc: 1.0000 - val_loss: 2.5218 - val_acc: 0.7375\n",
      "Epoch 26/30\n",
      "50/50 [==============================] - 7s 130ms/step - loss: 9.4910e-06 - acc: 1.0000 - val_loss: 2.5554 - val_acc: 0.7375\n",
      "Epoch 27/30\n",
      "50/50 [==============================] - 6s 115ms/step - loss: 8.7467e-06 - acc: 1.0000 - val_loss: 2.5836 - val_acc: 0.7400\n",
      "Epoch 28/30\n",
      "50/50 [==============================] - 6s 116ms/step - loss: 8.1209e-06 - acc: 1.0000 - val_loss: 2.6132 - val_acc: 0.7375\n",
      "Epoch 29/30\n",
      "50/50 [==============================] - 6s 115ms/step - loss: 7.5395e-06 - acc: 1.0000 - val_loss: 2.6395 - val_acc: 0.7375\n",
      "Epoch 30/30\n",
      "50/50 [==============================] - 6s 117ms/step - loss: 7.0224e-06 - acc: 1.0000 - val_loss: 2.6685 - val_acc: 0.7400\n"
     ]
    }
   ],
   "source": [
    "#Preparing to plot graph for 30 epochs\n",
    "\n",
    "model=Sequential()\n",
    "\n",
    "model.add(Embedding(size_of_vocabulary,300,input_length=100,trainable=True)) \n",
    "\n",
    "model.add(LSTM(100,return_sequences=True,activation='tanh'))\n",
    "\n",
    "model.add(GlobalMaxPooling1D())\n",
    "\n",
    "model.add(Dense(100))\n",
    "model.add(Dense(1,activation='sigmoid'))\n",
    "\n",
    "model.compile(optimizer='adam', loss='binary_crossentropy',metrics=[\"acc\"]) \n",
    "\n",
    "history = model.fit(np.array(X_train_seq),np.array(y_train),epochs=30,validation_data=(np.array(X_test_seq),np.array(y_test)),verbose=1)"
   ]
  },
  {
   "cell_type": "code",
   "execution_count": 61,
   "id": "939dcf24",
   "metadata": {},
   "outputs": [
    {
     "name": "stdout",
     "output_type": "stream",
     "text": [
      "dict_keys(['loss', 'acc', 'val_loss', 'val_acc'])\n"
     ]
    },
    {
     "data": {
      "image/png": "[encoded data removed]",
      "text/plain": [
       "<Figure size 432x288 with 1 Axes>"
      ]
     },
     "metadata": {
      "needs_background": "light"
     },
     "output_type": "display_data"
    },
    {
     "data": {
      "image/png": "[encoded data removed]",
      "text/plain": [
       "<Figure size 432x288 with 1 Axes>"
      ]
     },
     "metadata": {
      "needs_background": "light"
     },
     "output_type": "display_data"
    }
   ],
   "source": [
    "#Graphs for 30 epochs\n",
    "\n",
    "print(history.history.keys())\n",
    "\n",
    "plt.plot(history.history['acc'])\n",
    "plt.plot(history.history['val_acc'])\n",
    "plt.title('model accuracy')\n",
    "plt.ylabel('accuracy')\n",
    "plt.xlabel('epoch')\n",
    "plt.legend(['train', 'test'], loc='upper left')\n",
    "plt.show()\n",
    "\n",
    "plt.plot(history.history['loss'])\n",
    "plt.plot(history.history['val_loss'])\n",
    "plt.title('model loss')\n",
    "plt.ylabel('loss')\n",
    "plt.xlabel('epoch')\n",
    "plt.legend(['train', 'test'], loc='upper left')\n",
    "plt.show()"
   ]
  },
  {
   "cell_type": "markdown",
   "id": "3bdbb182",
   "metadata": {},
   "source": [
    "# Importing Embeddings"
   ]
  },
  {
   "cell_type": "code",
   "execution_count": 63,
   "id": "af15d49e",
   "metadata": {},
   "outputs": [],
   "source": [
    "import os\n",
    "import zipfile\n",
    "with zipfile.ZipFile(\"C:/Users/91750/Downloads/glove.6B.300d.txt.zip\", 'r') as zip_ref:\n",
    "    zip_ref.extractall(\"C:/Users/91750/Desktop/VLG\")"
   ]
  },
  {
   "cell_type": "code",
   "execution_count": 64,
   "id": "8193fb97",
   "metadata": {},
   "outputs": [
    {
     "name": "stdout",
     "output_type": "stream",
     "text": [
      "Loaded 400000 word vectors.\n"
     ]
    }
   ],
   "source": [
    "embeddings_index = dict()\n",
    "f = open(\"C:/Users/91750/Desktop/VLG/glove.6B.300d.txt\",encoding=\"utf8\")\n",
    "\n",
    "for line in f:\n",
    "    values = line.split()\n",
    "    word = values[0]\n",
    "    coefs = np.asarray(values[1:], dtype='float32')\n",
    "    embeddings_index[word] = coefs\n",
    "\n",
    "f.close()\n",
    "print('Loaded %s word vectors.' % len(embeddings_index))"
   ]
  },
  {
   "cell_type": "code",
   "execution_count": 65,
   "id": "a05241d6",
   "metadata": {},
   "outputs": [],
   "source": [
    "embedding_matrix = np.zeros((size_of_vocabulary, 300))\n",
    "\n",
    "for word, i in tokenizer.word_index.items():\n",
    "    embedding_vector = embeddings_index.get(word)\n",
    "    if embedding_vector is not None:\n",
    "        embedding_matrix[i] = embedding_vector"
   ]
  },
  {
   "cell_type": "markdown",
   "id": "10671c8f",
   "metadata": {},
   "source": [
    "# RNN MODEL with pretrained embedding"
   ]
  },
  {
   "cell_type": "code",
   "execution_count": 66,
   "id": "2578452e",
   "metadata": {},
   "outputs": [
    {
     "name": "stdout",
     "output_type": "stream",
     "text": [
      "Model: \"sequential_7\"\n",
      "_________________________________________________________________\n",
      " Layer (type)                Output Shape              Param #   \n",
      "=================================================================\n",
      " embedding_6 (Embedding)     (None, 100, 300)          5191200   \n",
      "                                                                 \n",
      " lstm_6 (LSTM)               (None, 100, 100)          160400    \n",
      "                                                                 \n",
      " global_max_pooling1d_6 (Glo  (None, 100)              0         \n",
      " balMaxPooling1D)                                                \n",
      "                                                                 \n",
      " dense_12 (Dense)            (None, 100)               10100     \n",
      "                                                                 \n",
      " dense_13 (Dense)            (None, 1)                 101       \n",
      "                                                                 \n",
      "=================================================================\n",
      "Total params: 5,361,801\n",
      "Trainable params: 5,361,801\n",
      "Non-trainable params: 0\n",
      "_________________________________________________________________\n",
      "None\n"
     ]
    }
   ],
   "source": [
    "model=Sequential()\n",
    "\n",
    "model.add(Embedding(size_of_vocabulary,300,weights=[embedding_matrix],input_length=100,trainable=True)) \n",
    "\n",
    "model.add(LSTM(100,return_sequences=True,activation='tanh'))\n",
    "\n",
    "model.add(GlobalMaxPooling1D())\n",
    "\n",
    "model.add(Dense(100))\n",
    "model.add(Dense(1,activation='sigmoid'))\n",
    "\n",
    "model.compile(optimizer='adam', loss='binary_crossentropy',metrics=[\"acc\"]) \n",
    "\n",
    "es = EarlyStopping(monitor='val_loss', mode='min', verbose=1,patience=3)  \n",
    "mc=ModelCheckpoint('best_model.h5', monitor='val_acc', mode='max', save_best_only=True,verbose=1)  \n",
    "\n",
    "print(model.summary())"
   ]
  },
  {
   "cell_type": "code",
   "execution_count": 67,
   "id": "bc95af1a",
   "metadata": {},
   "outputs": [],
   "source": [
    "start=time()"
   ]
  },
  {
   "cell_type": "code",
   "execution_count": 68,
   "id": "ca2dad13",
   "metadata": {},
   "outputs": [
    {
     "name": "stdout",
     "output_type": "stream",
     "text": [
      "Epoch 1/30\n",
      "50/50 [==============================] - ETA: 0s - loss: 0.5766 - acc: 0.6812\n",
      "Epoch 00001: val_acc improved from -inf to 0.76000, saving model to best_model.h5\n",
      "50/50 [==============================] - 8s 135ms/step - loss: 0.5766 - acc: 0.6812 - val_loss: 0.5134 - val_acc: 0.7600\n",
      "Epoch 2/30\n",
      "50/50 [==============================] - ETA: 0s - loss: 0.3139 - acc: 0.8662\n",
      "Epoch 00002: val_acc improved from 0.76000 to 0.78250, saving model to best_model.h5\n",
      "50/50 [==============================] - 6s 125ms/step - loss: 0.3139 - acc: 0.8662 - val_loss: 0.4963 - val_acc: 0.7825\n",
      "Epoch 3/30\n",
      "50/50 [==============================] - ETA: 0s - loss: 0.1355 - acc: 0.9550\n",
      "Epoch 00003: val_acc improved from 0.78250 to 0.79250, saving model to best_model.h5\n",
      "50/50 [==============================] - 6s 125ms/step - loss: 0.1355 - acc: 0.9550 - val_loss: 0.5878 - val_acc: 0.7925\n",
      "Epoch 4/30\n",
      "50/50 [==============================] - ETA: 0s - loss: 0.0425 - acc: 0.9900\n",
      "Epoch 00004: val_acc did not improve from 0.79250\n",
      "50/50 [==============================] - 6s 118ms/step - loss: 0.0425 - acc: 0.9900 - val_loss: 0.7475 - val_acc: 0.7925\n",
      "Epoch 5/30\n",
      "50/50 [==============================] - ETA: 0s - loss: 0.0101 - acc: 0.9987\n",
      "Epoch 00005: val_acc did not improve from 0.79250\n",
      "50/50 [==============================] - 6s 121ms/step - loss: 0.0101 - acc: 0.9987 - val_loss: 0.9921 - val_acc: 0.7850\n",
      "Epoch 00005: early stopping\n"
     ]
    }
   ],
   "source": [
    "history = model.fit(np.array(X_train_seq),np.array(y_train),epochs=30,validation_data=(np.array(X_test_seq),np.array(y_test)),verbose=1,callbacks=[es,mc])"
   ]
  },
  {
   "cell_type": "code",
   "execution_count": 69,
   "id": "0dac6aa1",
   "metadata": {},
   "outputs": [
    {
     "name": "stdout",
     "output_type": "stream",
     "text": [
      "34.47403168678284\n"
     ]
    }
   ],
   "source": [
    "#training time till best accuracy\n",
    "\n",
    "print(time()-start)"
   ]
  },
  {
   "cell_type": "code",
   "execution_count": 70,
   "id": "5823980e",
   "metadata": {},
   "outputs": [
    {
     "name": "stdout",
     "output_type": "stream",
     "text": [
      "13/13 [==============================] - 1s 21ms/step - loss: 0.5878 - acc: 0.7925\n",
      "0.7925000190734863\n"
     ]
    }
   ],
   "source": [
    "model = load_model('best_model.h5')\n",
    "\n",
    "#max accuracy\n",
    "\n",
    "_,val_acc = model.evaluate(X_test_seq,y_test)\n",
    "print(val_acc)"
   ]
  },
  {
   "cell_type": "code",
   "execution_count": 71,
   "id": "43467a12",
   "metadata": {},
   "outputs": [
    {
     "name": "stdout",
     "output_type": "stream",
     "text": [
      "Epoch 1/30\n",
      "50/50 [==============================] - 8s 135ms/step - loss: 0.6683 - acc: 0.5744 - val_loss: 0.5854 - val_acc: 0.7175\n",
      "Epoch 2/30\n",
      "50/50 [==============================] - 6s 123ms/step - loss: 0.3937 - acc: 0.8537 - val_loss: 0.5163 - val_acc: 0.7525\n",
      "Epoch 3/30\n",
      "50/50 [==============================] - 6s 123ms/step - loss: 0.1688 - acc: 0.9463 - val_loss: 0.6178 - val_acc: 0.7850\n",
      "Epoch 4/30\n",
      "50/50 [==============================] - 6s 122ms/step - loss: 0.0549 - acc: 0.9881 - val_loss: 0.7266 - val_acc: 0.7750\n",
      "Epoch 5/30\n",
      "50/50 [==============================] - 6s 122ms/step - loss: 0.0137 - acc: 0.9969 - val_loss: 0.7589 - val_acc: 0.8000\n",
      "Epoch 6/30\n",
      "50/50 [==============================] - 6s 122ms/step - loss: 0.0046 - acc: 0.9994 - val_loss: 1.1577 - val_acc: 0.7875\n",
      "Epoch 7/30\n",
      "50/50 [==============================] - 6s 122ms/step - loss: 0.0011 - acc: 1.0000 - val_loss: 1.2240 - val_acc: 0.7800\n",
      "Epoch 8/30\n",
      "50/50 [==============================] - 6s 122ms/step - loss: 4.8370e-04 - acc: 1.0000 - val_loss: 1.4385 - val_acc: 0.7750\n",
      "Epoch 9/30\n",
      "50/50 [==============================] - 6s 122ms/step - loss: 2.6614e-04 - acc: 1.0000 - val_loss: 1.5494 - val_acc: 0.7775\n",
      "Epoch 10/30\n",
      "50/50 [==============================] - 6s 124ms/step - loss: 1.9477e-04 - acc: 1.0000 - val_loss: 1.6437 - val_acc: 0.7800\n",
      "Epoch 11/30\n",
      "50/50 [==============================] - 6s 123ms/step - loss: 1.4542e-04 - acc: 1.0000 - val_loss: 1.7021 - val_acc: 0.7800\n",
      "Epoch 12/30\n",
      "50/50 [==============================] - 6s 127ms/step - loss: 1.1416e-04 - acc: 1.0000 - val_loss: 1.7643 - val_acc: 0.7775\n",
      "Epoch 13/30\n",
      "50/50 [==============================] - 6s 129ms/step - loss: 9.2879e-05 - acc: 1.0000 - val_loss: 1.8111 - val_acc: 0.7800\n",
      "Epoch 14/30\n",
      "50/50 [==============================] - 6s 123ms/step - loss: 7.7101e-05 - acc: 1.0000 - val_loss: 1.8582 - val_acc: 0.7775\n",
      "Epoch 15/30\n",
      "50/50 [==============================] - 6s 123ms/step - loss: 6.5507e-05 - acc: 1.0000 - val_loss: 1.9005 - val_acc: 0.7775\n",
      "Epoch 16/30\n",
      "50/50 [==============================] - 6s 123ms/step - loss: 5.5213e-05 - acc: 1.0000 - val_loss: 1.9433 - val_acc: 0.7775\n",
      "Epoch 17/30\n",
      "50/50 [==============================] - 6s 128ms/step - loss: 4.7703e-05 - acc: 1.0000 - val_loss: 1.9762 - val_acc: 0.7775\n",
      "Epoch 18/30\n",
      "50/50 [==============================] - 6s 124ms/step - loss: 4.2237e-05 - acc: 1.0000 - val_loss: 2.0126 - val_acc: 0.7750\n",
      "Epoch 19/30\n",
      "50/50 [==============================] - 6s 122ms/step - loss: 3.7063e-05 - acc: 1.0000 - val_loss: 2.0426 - val_acc: 0.7750\n",
      "Epoch 20/30\n",
      "50/50 [==============================] - 6s 122ms/step - loss: 3.2962e-05 - acc: 1.0000 - val_loss: 2.0716 - val_acc: 0.7750\n",
      "Epoch 21/30\n",
      "50/50 [==============================] - 6s 123ms/step - loss: 2.9493e-05 - acc: 1.0000 - val_loss: 2.1021 - val_acc: 0.7750\n",
      "Epoch 22/30\n",
      "50/50 [==============================] - 6s 122ms/step - loss: 2.6551e-05 - acc: 1.0000 - val_loss: 2.1378 - val_acc: 0.7700\n",
      "Epoch 23/30\n",
      "50/50 [==============================] - 6s 123ms/step - loss: 2.4147e-05 - acc: 1.0000 - val_loss: 2.1704 - val_acc: 0.7700\n",
      "Epoch 24/30\n",
      "50/50 [==============================] - 7s 131ms/step - loss: 2.1948e-05 - acc: 1.0000 - val_loss: 2.1877 - val_acc: 0.7700\n",
      "Epoch 25/30\n",
      "50/50 [==============================] - 6s 124ms/step - loss: 1.9626e-05 - acc: 1.0000 - val_loss: 2.2235 - val_acc: 0.7700\n",
      "Epoch 26/30\n",
      "50/50 [==============================] - 6s 123ms/step - loss: 1.8021e-05 - acc: 1.0000 - val_loss: 2.2487 - val_acc: 0.7725\n",
      "Epoch 27/30\n",
      "50/50 [==============================] - 6s 123ms/step - loss: 1.6556e-05 - acc: 1.0000 - val_loss: 2.2750 - val_acc: 0.7725\n",
      "Epoch 28/30\n",
      "50/50 [==============================] - 6s 122ms/step - loss: 1.5294e-05 - acc: 1.0000 - val_loss: 2.3059 - val_acc: 0.7700\n",
      "Epoch 29/30\n",
      "50/50 [==============================] - 6s 123ms/step - loss: 1.4134e-05 - acc: 1.0000 - val_loss: 2.3320 - val_acc: 0.7725\n",
      "Epoch 30/30\n",
      "50/50 [==============================] - 6s 125ms/step - loss: 1.3005e-05 - acc: 1.0000 - val_loss: 2.3726 - val_acc: 0.7650\n"
     ]
    }
   ],
   "source": [
    "#Preparing to plot graph for 30 epochs\n",
    "\n",
    "model=Sequential()\n",
    "\n",
    "model.add(Embedding(size_of_vocabulary,300,weights=[embedding_matrix],input_length=100,trainable=True)) \n",
    "\n",
    "model.add(LSTM(100,return_sequences=True,activation='tanh'))\n",
    "\n",
    "model.add(GlobalMaxPooling1D())\n",
    "\n",
    "model.add(Dense(100))\n",
    "model.add(Dense(1,activation='sigmoid'))\n",
    "\n",
    "model.compile(optimizer='adam', loss='binary_crossentropy',metrics=[\"acc\"]) \n",
    "\n",
    "history = model.fit(np.array(X_train_seq),np.array(y_train),epochs=30,validation_data=(np.array(X_test_seq),np.array(y_test)),verbose=1)"
   ]
  },
  {
   "cell_type": "code",
   "execution_count": 72,
   "id": "94242f44",
   "metadata": {},
   "outputs": [
    {
     "name": "stdout",
     "output_type": "stream",
     "text": [
      "dict_keys(['loss', 'acc', 'val_loss', 'val_acc'])\n"
     ]
    },
    {
     "data": {
      "image/png": "[encoded data removed]",
      "text/plain": [
       "<Figure size 432x288 with 1 Axes>"
      ]
     },
     "metadata": {
      "needs_background": "light"
     },
     "output_type": "display_data"
    },
    {
     "data": {
      "image/png": "[encoded data removed]",
      "text/plain": [
       "<Figure size 432x288 with 1 Axes>"
      ]
     },
     "metadata": {
      "needs_background": "light"
     },
     "output_type": "display_data"
    }
   ],
   "source": [
    "#Graphs for 30 epochs\n",
    "\n",
    "print(history.history.keys())\n",
    "\n",
    "plt.plot(history.history['acc'])\n",
    "plt.plot(history.history['val_acc'])\n",
    "plt.title('model accuracy')\n",
    "plt.ylabel('accuracy')\n",
    "plt.xlabel('epoch')\n",
    "plt.legend(['train', 'test'], loc='upper left')\n",
    "plt.show()\n",
    "\n",
    "plt.plot(history.history['loss'])\n",
    "plt.plot(history.history['val_loss'])\n",
    "plt.title('model loss')\n",
    "plt.ylabel('loss')\n",
    "plt.xlabel('epoch')\n",
    "plt.legend(['train', 'test'], loc='upper left')\n",
    "plt.show()"
   ]
  },
  {
   "cell_type": "markdown",
   "id": "76a0147e",
   "metadata": {},
   "source": [
    "# CNN MODEL without pretrained embedding"
   ]
  },
  {
   "cell_type": "code",
   "execution_count": 73,
   "id": "e7fab715",
   "metadata": {},
   "outputs": [
    {
     "name": "stdout",
     "output_type": "stream",
     "text": [
      "Model: \"sequential_9\"\n",
      "_________________________________________________________________\n",
      " Layer (type)                Output Shape              Param #   \n",
      "=================================================================\n",
      " embedding_8 (Embedding)     (None, 100, 300)          5191200   \n",
      "                                                                 \n",
      " conv1d (Conv1D)             (None, 98, 100)           90100     \n",
      "                                                                 \n",
      " global_max_pooling1d_8 (Glo  (None, 100)              0         \n",
      " balMaxPooling1D)                                                \n",
      "                                                                 \n",
      " dense_16 (Dense)            (None, 100)               10100     \n",
      "                                                                 \n",
      " dense_17 (Dense)            (None, 1)                 101       \n",
      "                                                                 \n",
      "=================================================================\n",
      "Total params: 5,291,501\n",
      "Trainable params: 5,291,501\n",
      "Non-trainable params: 0\n",
      "_________________________________________________________________\n",
      "None\n"
     ]
    }
   ],
   "source": [
    "model = Sequential()\n",
    "\n",
    "model.add(Embedding(size_of_vocabulary, 300, input_length=100))\n",
    "          \n",
    "model.add(Conv1D(100, 3, activation='relu'))\n",
    "          \n",
    "model.add(GlobalMaxPooling1D())\n",
    "          \n",
    "model.add(Dense(100))\n",
    "model.add(Dense(1,activation='sigmoid'))\n",
    "\n",
    "model.compile(optimizer='adam', loss='binary_crossentropy',metrics=[\"acc\"]) \n",
    "\n",
    "es = EarlyStopping(monitor='val_loss', mode='min', verbose=1,patience=3)  \n",
    "mc=ModelCheckpoint('best_model.h5', monitor='val_acc', mode='max', save_best_only=True,verbose=1)  \n",
    "\n",
    "print(model.summary())"
   ]
  },
  {
   "cell_type": "code",
   "execution_count": 74,
   "id": "c953b9ee",
   "metadata": {},
   "outputs": [],
   "source": [
    "start=time()"
   ]
  },
  {
   "cell_type": "code",
   "execution_count": 75,
   "id": "b48d5cf3",
   "metadata": {},
   "outputs": [
    {
     "name": "stdout",
     "output_type": "stream",
     "text": [
      "Epoch 1/30\n",
      "50/50 [==============================] - ETA: 0s - loss: 0.6715 - acc: 0.5987\n",
      "Epoch 00001: val_acc improved from -inf to 0.69750, saving model to best_model.h5\n",
      "50/50 [==============================] - 4s 80ms/step - loss: 0.6715 - acc: 0.5987 - val_loss: 0.6177 - val_acc: 0.6975\n",
      "Epoch 2/30\n",
      "50/50 [==============================] - ETA: 0s - loss: 0.3225 - acc: 0.9331\n",
      "Epoch 00002: val_acc improved from 0.69750 to 0.78250, saving model to best_model.h5\n",
      "50/50 [==============================] - 4s 78ms/step - loss: 0.3225 - acc: 0.9331 - val_loss: 0.4729 - val_acc: 0.7825\n",
      "Epoch 3/30\n",
      "50/50 [==============================] - ETA: 0s - loss: 0.0245 - acc: 0.9994\n",
      "Epoch 00003: val_acc did not improve from 0.78250\n",
      "50/50 [==============================] - 4s 80ms/step - loss: 0.0245 - acc: 0.9994 - val_loss: 0.4818 - val_acc: 0.7775\n",
      "Epoch 4/30\n",
      "50/50 [==============================] - ETA: 0s - loss: 0.0028 - acc: 1.0000\n",
      "Epoch 00004: val_acc did not improve from 0.78250\n",
      "50/50 [==============================] - 4s 79ms/step - loss: 0.0028 - acc: 1.0000 - val_loss: 0.4987 - val_acc: 0.7800\n",
      "Epoch 5/30\n",
      "50/50 [==============================] - ETA: 0s - loss: 0.0014 - acc: 1.0000\n",
      "Epoch 00005: val_acc did not improve from 0.78250\n",
      "50/50 [==============================] - 4s 79ms/step - loss: 0.0014 - acc: 1.0000 - val_loss: 0.5055 - val_acc: 0.7800\n",
      "Epoch 00005: early stopping\n"
     ]
    }
   ],
   "source": [
    "history = model.fit(np.array(X_train_seq),np.array(y_train),epochs=30,validation_data=(np.array(X_test_seq),np.array(y_test)),verbose=1,callbacks=[es,mc])"
   ]
  },
  {
   "cell_type": "code",
   "execution_count": 76,
   "id": "57caf501",
   "metadata": {},
   "outputs": [
    {
     "name": "stdout",
     "output_type": "stream",
     "text": [
      "24.063377141952515\n"
     ]
    }
   ],
   "source": [
    "#training time till best accuracy\n",
    "\n",
    "print(time()-start)"
   ]
  },
  {
   "cell_type": "code",
   "execution_count": 77,
   "id": "78843d43",
   "metadata": {},
   "outputs": [
    {
     "name": "stdout",
     "output_type": "stream",
     "text": [
      "13/13 [==============================] - 0s 5ms/step - loss: 0.4729 - acc: 0.7825\n",
      "0.7825000286102295\n"
     ]
    }
   ],
   "source": [
    "model = load_model('best_model.h5')\n",
    "\n",
    "#max accuracy\n",
    "\n",
    "_,val_acc = model.evaluate(X_test_seq,y_test)\n",
    "print(val_acc)"
   ]
  },
  {
   "cell_type": "code",
   "execution_count": 78,
   "id": "2fd19cea",
   "metadata": {},
   "outputs": [
    {
     "name": "stdout",
     "output_type": "stream",
     "text": [
      "Epoch 1/30\n",
      "50/50 [==============================] - 4s 82ms/step - loss: 0.6689 - acc: 0.5969 - val_loss: 0.6437 - val_acc: 0.6450\n",
      "Epoch 2/30\n",
      "50/50 [==============================] - 4s 76ms/step - loss: 0.3409 - acc: 0.9069 - val_loss: 0.5218 - val_acc: 0.7225\n",
      "Epoch 3/30\n",
      "50/50 [==============================] - 4s 82ms/step - loss: 0.0344 - acc: 0.9956 - val_loss: 0.5180 - val_acc: 0.7450\n",
      "Epoch 4/30\n",
      "50/50 [==============================] - 4s 89ms/step - loss: 0.0036 - acc: 1.0000 - val_loss: 0.5370 - val_acc: 0.7500\n",
      "Epoch 5/30\n",
      "50/50 [==============================] - 4s 86ms/step - loss: 0.0016 - acc: 1.0000 - val_loss: 0.5519 - val_acc: 0.7450\n",
      "Epoch 6/30\n",
      "50/50 [==============================] - 4s 89ms/step - loss: 9.9431e-04 - acc: 1.0000 - val_loss: 0.5615 - val_acc: 0.7500\n",
      "Epoch 7/30\n",
      "50/50 [==============================] - 4s 89ms/step - loss: 6.9924e-04 - acc: 1.0000 - val_loss: 0.5714 - val_acc: 0.7525\n",
      "Epoch 8/30\n",
      "50/50 [==============================] - 4s 89ms/step - loss: 5.2454e-04 - acc: 1.0000 - val_loss: 0.5787 - val_acc: 0.7575\n",
      "Epoch 9/30\n",
      "50/50 [==============================] - 4s 87ms/step - loss: 4.1076e-04 - acc: 1.0000 - val_loss: 0.5858 - val_acc: 0.7575\n",
      "Epoch 10/30\n",
      "50/50 [==============================] - 4s 90ms/step - loss: 3.3080e-04 - acc: 1.0000 - val_loss: 0.5924 - val_acc: 0.7575\n",
      "Epoch 11/30\n",
      "50/50 [==============================] - 5s 92ms/step - loss: 2.7271e-04 - acc: 1.0000 - val_loss: 0.5983 - val_acc: 0.7575\n",
      "Epoch 12/30\n",
      "50/50 [==============================] - 4s 78ms/step - loss: 2.2879e-04 - acc: 1.0000 - val_loss: 0.6040 - val_acc: 0.7600\n",
      "Epoch 13/30\n",
      "50/50 [==============================] - 4s 77ms/step - loss: 1.9497e-04 - acc: 1.0000 - val_loss: 0.6088 - val_acc: 0.7550\n",
      "Epoch 14/30\n",
      "50/50 [==============================] - 4s 77ms/step - loss: 1.6797e-04 - acc: 1.0000 - val_loss: 0.6139 - val_acc: 0.7575\n",
      "Epoch 15/30\n",
      "50/50 [==============================] - 4s 77ms/step - loss: 1.4621e-04 - acc: 1.0000 - val_loss: 0.6181 - val_acc: 0.7575\n",
      "Epoch 16/30\n",
      "50/50 [==============================] - 4s 77ms/step - loss: 1.2850e-04 - acc: 1.0000 - val_loss: 0.6224 - val_acc: 0.7575\n",
      "Epoch 17/30\n",
      "50/50 [==============================] - 4s 77ms/step - loss: 1.1383e-04 - acc: 1.0000 - val_loss: 0.6265 - val_acc: 0.7575\n",
      "Epoch 18/30\n",
      "50/50 [==============================] - 4s 77ms/step - loss: 1.0144e-04 - acc: 1.0000 - val_loss: 0.6305 - val_acc: 0.7575\n",
      "Epoch 19/30\n",
      "50/50 [==============================] - 4s 80ms/step - loss: 9.0972e-05 - acc: 1.0000 - val_loss: 0.6341 - val_acc: 0.7575\n",
      "Epoch 20/30\n",
      "50/50 [==============================] - 4s 77ms/step - loss: 8.1982e-05 - acc: 1.0000 - val_loss: 0.6378 - val_acc: 0.7575\n",
      "Epoch 21/30\n",
      "50/50 [==============================] - 4s 79ms/step - loss: 7.4254e-05 - acc: 1.0000 - val_loss: 0.6413 - val_acc: 0.7575\n",
      "Epoch 22/30\n",
      "50/50 [==============================] - 4s 77ms/step - loss: 6.7514e-05 - acc: 1.0000 - val_loss: 0.6445 - val_acc: 0.7575\n",
      "Epoch 23/30\n",
      "50/50 [==============================] - 4s 78ms/step - loss: 6.1658e-05 - acc: 1.0000 - val_loss: 0.6477 - val_acc: 0.7600\n",
      "Epoch 24/30\n",
      "50/50 [==============================] - 4s 87ms/step - loss: 5.6502e-05 - acc: 1.0000 - val_loss: 0.6508 - val_acc: 0.7600\n",
      "Epoch 25/30\n",
      "50/50 [==============================] - 4s 79ms/step - loss: 5.1947e-05 - acc: 1.0000 - val_loss: 0.6538 - val_acc: 0.7600\n",
      "Epoch 26/30\n",
      "50/50 [==============================] - 4s 78ms/step - loss: 4.7899e-05 - acc: 1.0000 - val_loss: 0.6568 - val_acc: 0.7600\n",
      "Epoch 27/30\n",
      "50/50 [==============================] - 4s 78ms/step - loss: 4.4290e-05 - acc: 1.0000 - val_loss: 0.6596 - val_acc: 0.7600\n",
      "Epoch 28/30\n",
      "50/50 [==============================] - 4s 77ms/step - loss: 4.1025e-05 - acc: 1.0000 - val_loss: 0.6624 - val_acc: 0.7600\n",
      "Epoch 29/30\n",
      "50/50 [==============================] - 4s 79ms/step - loss: 3.8118e-05 - acc: 1.0000 - val_loss: 0.6650 - val_acc: 0.7600\n",
      "Epoch 30/30\n",
      "50/50 [==============================] - 4s 79ms/step - loss: 3.5484e-05 - acc: 1.0000 - val_loss: 0.6676 - val_acc: 0.7600\n"
     ]
    }
   ],
   "source": [
    "#Preparing to plot graph for 30 epochs\n",
    "\n",
    "model = Sequential()\n",
    "\n",
    "model.add(Embedding(size_of_vocabulary, 300, input_length=100))\n",
    "          \n",
    "model.add(Conv1D(100, 3, activation='relu'))\n",
    "          \n",
    "model.add(GlobalMaxPooling1D())\n",
    "          \n",
    "model.add(Dense(100))\n",
    "model.add(Dense(1,activation='sigmoid'))\n",
    "\n",
    "model.compile(optimizer='adam', loss='binary_crossentropy',metrics=[\"acc\"]) \n",
    "\n",
    "history = model.fit(np.array(X_train_seq),np.array(y_train),epochs=30,validation_data=(np.array(X_test_seq),np.array(y_test)),verbose=1)"
   ]
  },
  {
   "cell_type": "code",
   "execution_count": 79,
   "id": "94f7a453",
   "metadata": {},
   "outputs": [
    {
     "name": "stdout",
     "output_type": "stream",
     "text": [
      "dict_keys(['loss', 'acc', 'val_loss', 'val_acc'])\n"
     ]
    },
    {
     "data": {
      "image/png": "[encoded data removed]",
      "text/plain": [
       "<Figure size 432x288 with 1 Axes>"
      ]
     },
     "metadata": {
      "needs_background": "light"
     },
     "output_type": "display_data"
    },
    {
     "data": {
      "image/png": "[encoded data removed]",
      "text/plain": [
       "<Figure size 432x288 with 1 Axes>"
      ]
     },
     "metadata": {
      "needs_background": "light"
     },
     "output_type": "display_data"
    }
   ],
   "source": [
    "#Graphs for 30 epochs\n",
    "\n",
    "print(history.history.keys())\n",
    "\n",
    "plt.plot(history.history['acc'])\n",
    "plt.plot(history.history['val_acc'])\n",
    "plt.title('model accuracy')\n",
    "plt.ylabel('accuracy')\n",
    "plt.xlabel('epoch')\n",
    "plt.legend(['train', 'test'], loc='upper left')\n",
    "plt.show()\n",
    "\n",
    "plt.plot(history.history['loss'])\n",
    "plt.plot(history.history['val_loss'])\n",
    "plt.title('model loss')\n",
    "plt.ylabel('loss')\n",
    "plt.xlabel('epoch')\n",
    "plt.legend(['train', 'test'], loc='upper left')\n",
    "plt.show()"
   ]
  },
  {
   "cell_type": "markdown",
   "id": "ac035333",
   "metadata": {},
   "source": [
    "# CNN MODEL with pretrained embedding"
   ]
  },
  {
   "cell_type": "code",
   "execution_count": 85,
   "id": "95730edc",
   "metadata": {},
   "outputs": [
    {
     "name": "stdout",
     "output_type": "stream",
     "text": [
      "Model: \"sequential_12\"\n",
      "_________________________________________________________________\n",
      " Layer (type)                Output Shape              Param #   \n",
      "=================================================================\n",
      " embedding_11 (Embedding)    (None, 100, 300)          5191200   \n",
      "                                                                 \n",
      " conv1d_3 (Conv1D)           (None, 98, 100)           90100     \n",
      "                                                                 \n",
      " global_max_pooling1d_11 (Gl  (None, 100)              0         \n",
      " obalMaxPooling1D)                                               \n",
      "                                                                 \n",
      " dense_22 (Dense)            (None, 100)               10100     \n",
      "                                                                 \n",
      " dense_23 (Dense)            (None, 1)                 101       \n",
      "                                                                 \n",
      "=================================================================\n",
      "Total params: 5,291,501\n",
      "Trainable params: 5,291,501\n",
      "Non-trainable params: 0\n",
      "_________________________________________________________________\n",
      "None\n"
     ]
    }
   ],
   "source": [
    "model = Sequential()\n",
    "\n",
    "model.add(Embedding(size_of_vocabulary, 300, weights=[embedding_matrix], input_length=100))\n",
    "          \n",
    "model.add(Conv1D(100, 3, activation='relu'))\n",
    "          \n",
    "model.add(GlobalMaxPooling1D())\n",
    "          \n",
    "model.add(Dense(100))\n",
    "model.add(Dense(1,activation='sigmoid'))\n",
    "\n",
    "model.compile(optimizer='adam', loss='binary_crossentropy',metrics=[\"acc\"]) \n",
    "\n",
    "es = EarlyStopping(monitor='val_loss', mode='min', verbose=1,patience=3)  \n",
    "mc=ModelCheckpoint('best_model.h5', monitor='val_acc', mode='max', save_best_only=True,verbose=1)  \n",
    "\n",
    "print(model.summary())"
   ]
  },
  {
   "cell_type": "code",
   "execution_count": 86,
   "id": "13f8e91b",
   "metadata": {},
   "outputs": [],
   "source": [
    "start=time()"
   ]
  },
  {
   "cell_type": "code",
   "execution_count": 87,
   "id": "86d1a5a1",
   "metadata": {},
   "outputs": [
    {
     "name": "stdout",
     "output_type": "stream",
     "text": [
      "Epoch 1/30\n",
      "50/50 [==============================] - ETA: 0s - loss: 0.6313 - acc: 0.6562\n",
      "Epoch 00001: val_acc improved from -inf to 0.72250, saving model to best_model.h5\n",
      "50/50 [==============================] - 4s 81ms/step - loss: 0.6313 - acc: 0.6562 - val_loss: 0.5584 - val_acc: 0.7225\n",
      "Epoch 2/30\n",
      "50/50 [==============================] - ETA: 0s - loss: 0.2317 - acc: 0.9606\n",
      "Epoch 00002: val_acc improved from 0.72250 to 0.74000, saving model to best_model.h5\n",
      "50/50 [==============================] - 4s 79ms/step - loss: 0.2317 - acc: 0.9606 - val_loss: 0.5331 - val_acc: 0.7400\n",
      "Epoch 3/30\n",
      "50/50 [==============================] - ETA: 0s - loss: 0.0530 - acc: 0.9969\n",
      "Epoch 00003: val_acc improved from 0.74000 to 0.75500, saving model to best_model.h5\n",
      "50/50 [==============================] - 4s 79ms/step - loss: 0.0530 - acc: 0.9969 - val_loss: 0.5107 - val_acc: 0.7550\n",
      "Epoch 4/30\n",
      "50/50 [==============================] - ETA: 0s - loss: 0.0122 - acc: 0.9994\n",
      "Epoch 00004: val_acc improved from 0.75500 to 0.76500, saving model to best_model.h5\n",
      "50/50 [==============================] - 4s 79ms/step - loss: 0.0122 - acc: 0.9994 - val_loss: 0.5255 - val_acc: 0.7650\n",
      "Epoch 5/30\n",
      "50/50 [==============================] - ETA: 0s - loss: 0.0053 - acc: 1.0000\n",
      "Epoch 00005: val_acc improved from 0.76500 to 0.76750, saving model to best_model.h5\n",
      "50/50 [==============================] - 4s 82ms/step - loss: 0.0053 - acc: 1.0000 - val_loss: 0.5414 - val_acc: 0.7675\n",
      "Epoch 6/30\n",
      "50/50 [==============================] - ETA: 0s - loss: 0.0032 - acc: 1.0000\n",
      "Epoch 00006: val_acc did not improve from 0.76750\n",
      "50/50 [==============================] - 4s 77ms/step - loss: 0.0032 - acc: 1.0000 - val_loss: 0.5495 - val_acc: 0.7675\n",
      "Epoch 00006: early stopping\n"
     ]
    }
   ],
   "source": [
    "history = model.fit(np.array(X_train_seq),np.array(y_train),epochs=30,validation_data=(np.array(X_test_seq),np.array(y_test)),verbose=1,callbacks=[es,mc])"
   ]
  },
  {
   "cell_type": "code",
   "execution_count": 88,
   "id": "62609d3d",
   "metadata": {},
   "outputs": [
    {
     "name": "stdout",
     "output_type": "stream",
     "text": [
      "28.45864701271057\n"
     ]
    }
   ],
   "source": [
    "#training time till best accuracy\n",
    "\n",
    "print(time()-start)"
   ]
  },
  {
   "cell_type": "code",
   "execution_count": 89,
   "id": "966b1fd2",
   "metadata": {},
   "outputs": [
    {
     "name": "stdout",
     "output_type": "stream",
     "text": [
      "13/13 [==============================] - 0s 5ms/step - loss: 0.5414 - acc: 0.7675\n",
      "0.7674999833106995\n"
     ]
    }
   ],
   "source": [
    "model = load_model('best_model.h5')\n",
    "\n",
    "#max accuracy\n",
    "\n",
    "_,val_acc = model.evaluate(X_test_seq,y_test)\n",
    "print(val_acc)"
   ]
  },
  {
   "cell_type": "code",
   "execution_count": 91,
   "id": "dcc0fdbb",
   "metadata": {},
   "outputs": [
    {
     "name": "stdout",
     "output_type": "stream",
     "text": [
      "Epoch 1/30\n",
      "50/50 [==============================] - 5s 86ms/step - loss: 0.6450 - acc: 0.6256 - val_loss: 0.5753 - val_acc: 0.7000\n",
      "Epoch 2/30\n",
      "50/50 [==============================] - 4s 80ms/step - loss: 0.2519 - acc: 0.9531 - val_loss: 0.5014 - val_acc: 0.7475\n",
      "Epoch 3/30\n",
      "50/50 [==============================] - 4s 80ms/step - loss: 0.0524 - acc: 0.9969 - val_loss: 0.5114 - val_acc: 0.7575\n",
      "Epoch 4/30\n",
      "50/50 [==============================] - 4s 85ms/step - loss: 0.0114 - acc: 1.0000 - val_loss: 0.5328 - val_acc: 0.7475\n",
      "Epoch 5/30\n",
      "50/50 [==============================] - 4s 86ms/step - loss: 0.0052 - acc: 1.0000 - val_loss: 0.5436 - val_acc: 0.7650\n",
      "Epoch 6/30\n",
      "50/50 [==============================] - 4s 79ms/step - loss: 0.0031 - acc: 1.0000 - val_loss: 0.5580 - val_acc: 0.7575\n",
      "Epoch 7/30\n",
      "50/50 [==============================] - 4s 79ms/step - loss: 0.0021 - acc: 1.0000 - val_loss: 0.5701 - val_acc: 0.7575\n",
      "Epoch 8/30\n",
      "50/50 [==============================] - 4s 80ms/step - loss: 0.0016 - acc: 1.0000 - val_loss: 0.5795 - val_acc: 0.7575\n",
      "Epoch 9/30\n",
      "50/50 [==============================] - 4s 82ms/step - loss: 0.0012 - acc: 1.0000 - val_loss: 0.5883 - val_acc: 0.7550\n",
      "Epoch 10/30\n",
      "50/50 [==============================] - 4s 83ms/step - loss: 9.4564e-04 - acc: 1.0000 - val_loss: 0.5951 - val_acc: 0.7550\n",
      "Epoch 11/30\n",
      "50/50 [==============================] - 4s 87ms/step - loss: 7.6657e-04 - acc: 1.0000 - val_loss: 0.6014 - val_acc: 0.7625\n",
      "Epoch 12/30\n",
      "50/50 [==============================] - 4s 79ms/step - loss: 6.3553e-04 - acc: 1.0000 - val_loss: 0.6085 - val_acc: 0.7625\n",
      "Epoch 13/30\n",
      "50/50 [==============================] - 4s 81ms/step - loss: 5.3456e-04 - acc: 1.0000 - val_loss: 0.6155 - val_acc: 0.7575\n",
      "Epoch 14/30\n",
      "50/50 [==============================] - 4s 89ms/step - loss: 4.5608e-04 - acc: 1.0000 - val_loss: 0.6198 - val_acc: 0.7625\n",
      "Epoch 15/30\n",
      "50/50 [==============================] - 4s 80ms/step - loss: 3.9399e-04 - acc: 1.0000 - val_loss: 0.6255 - val_acc: 0.7650\n",
      "Epoch 16/30\n",
      "50/50 [==============================] - 4s 81ms/step - loss: 3.4335e-04 - acc: 1.0000 - val_loss: 0.6316 - val_acc: 0.7650\n",
      "Epoch 17/30\n",
      "50/50 [==============================] - 4s 86ms/step - loss: 3.0175e-04 - acc: 1.0000 - val_loss: 0.6349 - val_acc: 0.7650\n",
      "Epoch 18/30\n",
      "50/50 [==============================] - 4s 81ms/step - loss: 2.6743e-04 - acc: 1.0000 - val_loss: 0.6401 - val_acc: 0.7625\n",
      "Epoch 19/30\n",
      "50/50 [==============================] - 4s 83ms/step - loss: 2.3817e-04 - acc: 1.0000 - val_loss: 0.6452 - val_acc: 0.7650\n",
      "Epoch 20/30\n",
      "50/50 [==============================] - 4s 79ms/step - loss: 2.1360e-04 - acc: 1.0000 - val_loss: 0.6480 - val_acc: 0.7625\n",
      "Epoch 21/30\n",
      "50/50 [==============================] - 4s 82ms/step - loss: 1.9242e-04 - acc: 1.0000 - val_loss: 0.6524 - val_acc: 0.7600\n",
      "Epoch 22/30\n",
      "50/50 [==============================] - 4s 80ms/step - loss: 1.7404e-04 - acc: 1.0000 - val_loss: 0.6560 - val_acc: 0.7625\n",
      "Epoch 23/30\n",
      "50/50 [==============================] - 4s 79ms/step - loss: 1.5821e-04 - acc: 1.0000 - val_loss: 0.6600 - val_acc: 0.7600\n",
      "Epoch 24/30\n",
      "50/50 [==============================] - 4s 79ms/step - loss: 1.4447e-04 - acc: 1.0000 - val_loss: 0.6634 - val_acc: 0.7600\n",
      "Epoch 25/30\n",
      "50/50 [==============================] - 4s 79ms/step - loss: 1.3222e-04 - acc: 1.0000 - val_loss: 0.6672 - val_acc: 0.7575\n",
      "Epoch 26/30\n",
      "50/50 [==============================] - 4s 80ms/step - loss: 1.2144e-04 - acc: 1.0000 - val_loss: 0.6706 - val_acc: 0.7575\n",
      "Epoch 27/30\n",
      "50/50 [==============================] - 4s 80ms/step - loss: 1.1192e-04 - acc: 1.0000 - val_loss: 0.6741 - val_acc: 0.7575\n",
      "Epoch 28/30\n",
      "50/50 [==============================] - 4s 81ms/step - loss: 1.0345e-04 - acc: 1.0000 - val_loss: 0.6763 - val_acc: 0.7575\n",
      "Epoch 29/30\n",
      "50/50 [==============================] - 4s 79ms/step - loss: 9.5872e-05 - acc: 1.0000 - val_loss: 0.6795 - val_acc: 0.7575\n",
      "Epoch 30/30\n",
      "50/50 [==============================] - 4s 80ms/step - loss: 8.8841e-05 - acc: 1.0000 - val_loss: 0.6825 - val_acc: 0.7575\n"
     ]
    }
   ],
   "source": [
    "#Preparing to plot graph for 30 epochs\n",
    "\n",
    "model = Sequential()\n",
    "\n",
    "model.add(Embedding(size_of_vocabulary, 300, weights=[embedding_matrix], input_length=100))\n",
    "          \n",
    "model.add(Conv1D(100, 3, activation='relu'))\n",
    "          \n",
    "model.add(GlobalMaxPooling1D())\n",
    "          \n",
    "model.add(Dense(100))\n",
    "model.add(Dense(1,activation='sigmoid'))\n",
    "\n",
    "model.compile(optimizer='adam', loss='binary_crossentropy',metrics=[\"acc\"]) \n",
    "\n",
    "history = model.fit(np.array(X_train_seq),np.array(y_train),epochs=30,validation_data=(np.array(X_test_seq),np.array(y_test)),verbose=1)"
   ]
  },
  {
   "cell_type": "code",
   "execution_count": 92,
   "id": "9ba5f953",
   "metadata": {},
   "outputs": [
    {
     "name": "stdout",
     "output_type": "stream",
     "text": [
      "dict_keys(['loss', 'acc', 'val_loss', 'val_acc'])\n"
     ]
    },
    {
     "data": {
      "image/png": "[encoded data removed]",
      "text/plain": [
       "<Figure size 432x288 with 1 Axes>"
      ]
     },
     "metadata": {
      "needs_background": "light"
     },
     "output_type": "display_data"
    },
    {
     "data": {
      "image/png": "[encoded data removed]",
      "text/plain": [
       "<Figure size 432x288 with 1 Axes>"
      ]
     },
     "metadata": {
      "needs_background": "light"
     },
     "output_type": "display_data"
    }
   ],
   "source": [
    "#Graphs for 30 epochs\n",
    "\n",
    "print(history.history.keys())\n",
    "\n",
    "plt.plot(history.history['acc'])\n",
    "plt.plot(history.history['val_acc'])\n",
    "plt.title('model accuracy')\n",
    "plt.ylabel('accuracy')\n",
    "plt.xlabel('epoch')\n",
    "plt.legend(['train', 'test'], loc='upper left')\n",
    "plt.show()\n",
    "\n",
    "plt.plot(history.history['loss'])\n",
    "plt.plot(history.history['val_loss'])\n",
    "plt.title('model loss')\n",
    "plt.ylabel('loss')\n",
    "plt.xlabel('epoch')\n",
    "plt.legend(['train', 'test'], loc='upper left')\n",
    "plt.show()"
   ]
  },
  {
   "cell_type": "markdown",
   "id": "94dd9d7d",
   "metadata": {},
   "source": [
    "# Predicting on test data (RNN model with pretrained embedding)"
   ]
  },
  {
   "cell_type": "code",
   "execution_count": 106,
   "id": "699093f6",
   "metadata": {},
   "outputs": [],
   "source": [
    "files_=glob.glob('C:/Users/91750/Desktop/VLG/test/*')"
   ]
  },
  {
   "cell_type": "code",
   "execution_count": 107,
   "id": "394726b7",
   "metadata": {},
   "outputs": [],
   "source": [
    "m=[pd.read_csv(filename,sep='\\t',names=[\"text\"],) for filename in files_]\n",
    "test=pd.concat(m,axis=0)"
   ]
  },
  {
   "cell_type": "code",
   "execution_count": 108,
   "id": "a1585a01",
   "metadata": {},
   "outputs": [],
   "source": [
    "test['text'] = test['text'].apply(remove_stop_words)"
   ]
  },
  {
   "cell_type": "code",
   "execution_count": 109,
   "id": "a6c7c19a",
   "metadata": {},
   "outputs": [],
   "source": [
    "test['text'] = test['text'].apply(clean_data)"
   ]
  },
  {
   "cell_type": "code",
   "execution_count": 110,
   "id": "1da94087",
   "metadata": {},
   "outputs": [],
   "source": [
    "test['text'] = test['text'].apply(lematize)"
   ]
  },
  {
   "cell_type": "code",
   "execution_count": 112,
   "id": "bfa02d35",
   "metadata": {},
   "outputs": [
    {
     "data": {
      "text/html": [
       "<div>\n",
       "<style scoped>\n",
       "    .dataframe tbody tr th:only-of-type {\n",
       "        vertical-align: middle;\n",
       "    }\n",
       "\n",
       "    .dataframe tbody tr th {\n",
       "        vertical-align: top;\n",
       "    }\n",
       "\n",
       "    .dataframe thead th {\n",
       "        text-align: right;\n",
       "    }\n",
       "</style>\n",
       "<table border=\"1\" class=\"dataframe\">\n",
       "  <thead>\n",
       "    <tr style=\"text-align: right;\">\n",
       "      <th></th>\n",
       "      <th>text</th>\n",
       "    </tr>\n",
       "  </thead>\n",
       "  <tbody>\n",
       "    <tr>\n",
       "      <th>0</th>\n",
       "      <td>good history doubt book cover history border p...</td>\n",
       "    </tr>\n",
       "    <tr>\n",
       "      <th>0</th>\n",
       "      <td>refinement needed s ton paper book overboard o...</td>\n",
       "    </tr>\n",
       "    <tr>\n",
       "      <th>0</th>\n",
       "      <td>wonderful handbook m new reading energy healin...</td>\n",
       "    </tr>\n",
       "    <tr>\n",
       "      <th>0</th>\n",
       "      <td>completely agree completely agree tomorrow sug...</td>\n",
       "    </tr>\n",
       "    <tr>\n",
       "      <th>0</th>\n",
       "      <td>wow d familiar appreciative graphic novel gave...</td>\n",
       "    </tr>\n",
       "  </tbody>\n",
       "</table>\n",
       "</div>"
      ],
      "text/plain": [
       "                                                text\n",
       "0  good history doubt book cover history border p...\n",
       "0  refinement needed s ton paper book overboard o...\n",
       "0  wonderful handbook m new reading energy healin...\n",
       "0  completely agree completely agree tomorrow sug...\n",
       "0  wow d familiar appreciative graphic novel gave..."
      ]
     },
     "execution_count": 112,
     "metadata": {},
     "output_type": "execute_result"
    }
   ],
   "source": [
    "test.head()"
   ]
  },
  {
   "cell_type": "code",
   "execution_count": 122,
   "id": "095b0b9b",
   "metadata": {},
   "outputs": [],
   "source": [
    "tokenizer = Tokenizer()\n",
    "\n",
    "tokenizer.fit_on_texts(list(train_X))\n",
    " \n",
    "train_X_seq  = tokenizer.texts_to_sequences(train_X) \n",
    "\n",
    "train_X_seq  = pad_sequences(train_X_seq, maxlen=100)"
   ]
  },
  {
   "cell_type": "code",
   "execution_count": 123,
   "id": "7d3d52e8",
   "metadata": {},
   "outputs": [
    {
     "name": "stdout",
     "output_type": "stream",
     "text": [
      "19536\n"
     ]
    }
   ],
   "source": [
    "size_of_vocabulary_2=len(tokenizer.word_index) + 1\n",
    "print(size_of_vocabulary_2)"
   ]
  },
  {
   "cell_type": "code",
   "execution_count": 124,
   "id": "ea45eb4f",
   "metadata": {},
   "outputs": [],
   "source": [
    "tokenizer = Tokenizer()\n",
    "\n",
    "tokenizer.fit_on_texts(list(test['text']))\n",
    "\n",
    "test_seq  = tokenizer.texts_to_sequences(test['text'])  \n",
    "\n",
    "test_seq  = pad_sequences(test_seq, maxlen=100)"
   ]
  },
  {
   "cell_type": "code",
   "execution_count": 120,
   "id": "9389994b",
   "metadata": {},
   "outputs": [],
   "source": [
    "embedding_matrix = np.zeros((size_of_vocabulary_2, 300))\n",
    "\n",
    "for word, i in tokenizer.word_index.items():\n",
    "    embedding_vector = embeddings_index.get(word)\n",
    "    if embedding_vector is not None:\n",
    "        embedding_matrix[i] = embedding_vector"
   ]
  },
  {
   "cell_type": "code",
   "execution_count": 121,
   "id": "4206f607",
   "metadata": {},
   "outputs": [
    {
     "name": "stdout",
     "output_type": "stream",
     "text": [
      "Epoch 1/5\n",
      "63/63 [==============================] - 9s 125ms/step - loss: 0.5946 - acc: 0.6805\n",
      "Epoch 2/5\n",
      "63/63 [==============================] - 8s 125ms/step - loss: 0.3240 - acc: 0.8705\n",
      "Epoch 3/5\n",
      "63/63 [==============================] - 8s 129ms/step - loss: 0.1267 - acc: 0.9655\n",
      "Epoch 4/5\n",
      "63/63 [==============================] - 8s 134ms/step - loss: 0.0310 - acc: 0.9945\n",
      "Epoch 5/5\n",
      "63/63 [==============================] - 8s 132ms/step - loss: 0.0063 - acc: 0.9990\n"
     ]
    },
    {
     "data": {
      "text/plain": [
       "<keras.callbacks.History at 0x26bc5ce0430>"
      ]
     },
     "execution_count": 121,
     "metadata": {},
     "output_type": "execute_result"
    }
   ],
   "source": [
    "model=Sequential()\n",
    "\n",
    "model.add(Embedding(size_of_vocabulary_2,300,weights=[embedding_matrix],input_length=100,trainable=True)) \n",
    "\n",
    "model.add(LSTM(100,return_sequences=True,activation='tanh'))\n",
    "\n",
    "model.add(GlobalMaxPooling1D())\n",
    "\n",
    "model.add(Dense(100))\n",
    "model.add(Dense(1,activation='sigmoid'))\n",
    "\n",
    "model.compile(optimizer='adam', loss='binary_crossentropy',metrics=[\"acc\"]) \n",
    "\n",
    "model.fit(np.array(train_X_seq),np.array(train_Y),epochs=5,verbose=1)"
   ]
  },
  {
   "cell_type": "code",
   "execution_count": 144,
   "id": "6d34c52b",
   "metadata": {},
   "outputs": [],
   "source": [
    "predictions=model.predict(test_seq)"
   ]
  },
  {
   "cell_type": "code",
   "execution_count": 149,
   "id": "30bda1e2",
   "metadata": {},
   "outputs": [],
   "source": [
    "Df=pd.DataFrame(predictions)"
   ]
  },
  {
   "cell_type": "code",
   "execution_count": 151,
   "id": "213d6f31",
   "metadata": {},
   "outputs": [],
   "source": [
    "Df['predictions']=Df[0]"
   ]
  },
  {
   "cell_type": "code",
   "execution_count": 153,
   "id": "f65f5834",
   "metadata": {},
   "outputs": [],
   "source": [
    "Df['predictions']=Df.predictions.apply(lambda x: 0 if (x<0.5) else 1)"
   ]
  },
  {
   "cell_type": "code",
   "execution_count": 163,
   "id": "76ed35a8",
   "metadata": {},
   "outputs": [],
   "source": [
    "Df.drop(0,axis=1,inplace=True)"
   ]
  },
  {
   "cell_type": "code",
   "execution_count": 164,
   "id": "7d144188",
   "metadata": {},
   "outputs": [],
   "source": [
    "Df.to_csv('Prediction.csv')"
   ]
  },
  {
   "cell_type": "code",
   "execution_count": null,
   "id": "27e7ea55",
   "metadata": {},
   "outputs": [],
   "source": []
  }
 ],
 "metadata": {
  "kernelspec": {
   "display_name": "Python 3 (ipykernel)",
   "language": "python",
   "name": "python3"
  },
  "language_info": {
   "codemirror_mode": {
    "name": "ipython",
    "version": 3
   },
   "file_extension": ".py",
   "mimetype": "text/x-python",
   "name": "python",
   "nbconvert_exporter": "python",
   "pygments_lexer": "ipython3",
   "version": "3.9.7"
  }
 },
 "nbformat": 4,
 "nbformat_minor": 5
}
